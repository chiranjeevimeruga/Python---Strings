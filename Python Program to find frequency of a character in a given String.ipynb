{
 "cells": [
  {
   "cell_type": "code",
   "execution_count": 1,
   "metadata": {},
   "outputs": [],
   "source": [
    "# Python Program to find frequency of a character in a given string"
   ]
  },
  {
   "cell_type": "code",
   "execution_count": 15,
   "metadata": {},
   "outputs": [
    {
     "name": "stdout",
     "output_type": "stream",
     "text": [
      "Enter a String : Chiranjeevi\n",
      "{'c': 1, 'h': 1, 'i': 2, 'r': 1, 'a': 1, 'n': 1, 'j': 1, 'e': 2, 'v': 1}\n"
     ]
    }
   ],
   "source": [
    "def charFrequency(userInput):\n",
    "    userInput = userInput.lower() #convert to lowercase\n",
    "    dict = {}\n",
    "    for char in userInput:\n",
    "        keys = dict.keys()\n",
    "        if char in keys:\n",
    "            dict[char] += 1\n",
    "        else:\n",
    "            dict[char] = 1\n",
    "    return dict\n",
    "            \n",
    "if __name__ == '__main__':\n",
    "    userInput = str(input('Enter a String : '))\n",
    "    print(charFrequency(userInput))"
   ]
  }
 ],
 "metadata": {
  "kernelspec": {
   "display_name": "Python 3",
   "language": "python",
   "name": "python3"
  },
  "language_info": {
   "codemirror_mode": {
    "name": "ipython",
    "version": 3
   },
   "file_extension": ".py",
   "mimetype": "text/x-python",
   "name": "python",
   "nbconvert_exporter": "python",
   "pygments_lexer": "ipython3",
   "version": "3.7.1"
  },
  "toc": {
   "base_numbering": 1,
   "nav_menu": {},
   "number_sections": true,
   "sideBar": true,
   "skip_h1_title": false,
   "title_cell": "Table of Contents",
   "title_sidebar": "Contents",
   "toc_cell": false,
   "toc_position": {},
   "toc_section_display": true,
   "toc_window_display": false
  }
 },
 "nbformat": 4,
 "nbformat_minor": 2
}
